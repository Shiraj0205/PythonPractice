{
 "cells": [
  {
   "cell_type": "code",
   "execution_count": null,
   "id": "8ad1e3f6",
   "metadata": {},
   "outputs": [
    {
     "name": "stdout",
     "output_type": "stream",
     "text": [
      "Set Type: <class 'set'>\n",
      "Set Example: {1, 2, 3, 4, 5, 6}\n"
     ]
    }
   ],
   "source": [
    "# Set is a collection of unique elements. It does not allow duplicate elements and is unordered.\n",
    "# Sets are mutable, meaning you can add or remove elements after creation.\n",
    "\n",
    "set_example = set()\n",
    "print(f\"Set Type: {type(set_example)}\")  # <class 'set'>\n",
    "set_example = {1, 2, 3, 4, 5, 3, 6} # Duplicate '3' will be ignored\n",
    "print(f\"Set Example: {set_example}\")"
   ]
  },
  {
   "cell_type": "code",
   "execution_count": 11,
   "id": "8c03dd0e",
   "metadata": {},
   "outputs": [
    {
     "name": "stdout",
     "output_type": "stream",
     "text": [
      "Set Movies: {'Interstellar', 'Inception', 'The Matrix'}\n",
      "Set after adding : {'Interstellar', 'The Dark Knight', 'Inception', 'The Matrix'}\n"
     ]
    }
   ],
   "source": [
    "#Set does not support indexing, slicing, or other sequence-like behavior.\n",
    "# You cannot access elements by index like you do with lists or tuples.\n",
    "set_movies = {'Inception', 'The Matrix', 'Interstellar'}\n",
    "print(f\"Set Movies: {set_movies}\")\n",
    "\n",
    "#set_movies[0]  # This will raise a TypeError\n",
    "#set_movies['Inception']  # This will raise a TypeError as well. 'set' object is not subscriptable\n",
    "\n",
    "# Adding elements to a set\n",
    "set_movies.add('The Dark Knight')\n",
    "print(f\"Set after adding : {set_movies}\")"
   ]
  },
  {
   "cell_type": "code",
   "execution_count": 14,
   "id": "819d81bb",
   "metadata": {},
   "outputs": [
    {
     "name": "stdout",
     "output_type": "stream",
     "text": [
      "Set after difference: {'Captain America', 'Ironman'}\n"
     ]
    }
   ],
   "source": [
    "set_movies2 = {'Ironman', 'Inception', 'Captain America', 'The Matrix', 'Interstellar'}\n",
    "\n",
    "set_movies2.difference(set_movies)  # This will return a new set with elements that are in set_movies2 but not in set_movies\n",
    "set_movies2.difference_update(set_movies)  # This will remove elements from set_movies2 that are also in set_movies\n",
    "print(f\"Set after difference: {set_movies2}\")\n"
   ]
  },
  {
   "cell_type": "code",
   "execution_count": 8,
   "id": "c19d86af",
   "metadata": {},
   "outputs": [
    {
     "name": "stdout",
     "output_type": "stream",
     "text": [
      "Dictionary Type: <class 'dict'>\n",
      "Dictionary Example: {'name': 'Alice', 'age': 30, 'city': 'New York'}\n",
      "Dictionary Keys:\n",
      "name\n",
      "age\n",
      "city\n",
      "Dictionary Values:\n",
      "Alice\n",
      "30\n",
      "New York\n",
      "Dictionary Items:\n",
      "Key : name -- Value: Alice\n",
      "Key : age -- Value: 30\n",
      "Key : city -- Value: New York\n"
     ]
    }
   ],
   "source": [
    "# Dictionaries are mutable, unordered collections of key-value pairs.\n",
    "# Each key must be unique, and keys are immutable types (like strings, numbers, or tuples).\n",
    "dict_example = dict()\n",
    "print(f\"Dictionary Type: {type(dict_example)}\")  # <class 'dict'>\n",
    "dict_example = {'name': 'Alice', 'age': 30, 'city': 'New York'}\n",
    "print(f\"Dictionary Example: {dict_example}\")\n",
    "\n",
    "# print dictionary keys\n",
    "print(\"Dictionary Keys:\")\n",
    "for key in dict_example:\n",
    "    print(key)\n",
    "\n",
    "print(\"Dictionary Values:\")\n",
    "for val in dict_example.values():\n",
    "    print(val)\n",
    "\n",
    "\n",
    "print(\"Dictionary Items:\")\n",
    "for item in dict_example.items():\n",
    "    print(f\"Key : {item[0]} -- Value: {item[1]}\")\n",
    "\n"
   ]
  },
  {
   "cell_type": "code",
   "execution_count": 13,
   "id": "51e69818",
   "metadata": {},
   "outputs": [
    {
     "name": "stdout",
     "output_type": "stream",
     "text": [
      "Type : <class 'tuple'>\n",
      "1\n",
      "Length of Tuple : 3\n"
     ]
    }
   ],
   "source": [
    "# Tuple is ordered immutable collection if Items\n",
    "# Tuples can store items of different data types\n",
    "# To store a fixed collection of related items that should not change\n",
    "this_tuple = (1, \"Python\", 456.23)\n",
    "\n",
    "print(f\"Type : {type(this_tuple)}\")\n",
    "\n",
    "print(this_tuple[0])\n",
    "#tuple_example[0] = 5 # Doesn't support item assignment\n",
    "\n",
    "print(f\"Length of Tuple : {len(this_tuple)}\")"
   ]
  }
 ],
 "metadata": {
  "kernelspec": {
   "display_name": "Python 3",
   "language": "python",
   "name": "python3"
  },
  "language_info": {
   "codemirror_mode": {
    "name": "ipython",
    "version": 3
   },
   "file_extension": ".py",
   "mimetype": "text/x-python",
   "name": "python",
   "nbconvert_exporter": "python",
   "pygments_lexer": "ipython3",
   "version": "3.10.18"
  }
 },
 "nbformat": 4,
 "nbformat_minor": 5
}
