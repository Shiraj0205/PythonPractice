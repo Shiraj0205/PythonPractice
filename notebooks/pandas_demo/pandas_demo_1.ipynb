{
 "cells": [
  {
   "cell_type": "markdown",
   "id": "f8d8e2ae",
   "metadata": {},
   "source": [
    "# pandas\n",
    "\n",
    "Pandas is an open-source software library designed for data manipulation and analysis. It provides data structures like series and DataFrames to easily clean, transform and analyze large datasets and integrates with other Python libraries, such as NumPy and Matplotlib.\n",
    "\n",
    "The Pandas library in Python is a tool for working with data, especially tables — kind of like a spreadsheet in Excel or a database table.\n",
    "\n",
    "It helps you:\n",
    "\n",
    "- Read and write data from files (like CSVs or Excel)\n",
    "- Organize data in rows and columns (called a DataFrame)\n",
    "- Clean, filter, sort, and analyze that data easily"
   ]
  },
  {
   "cell_type": "code",
   "execution_count": 1,
   "id": "746b9f1e",
   "metadata": {},
   "outputs": [],
   "source": [
    "import pandas as pd\n",
    "import numpy as np"
   ]
  },
  {
   "cell_type": "code",
   "execution_count": null,
   "id": "03e7af44",
   "metadata": {},
   "outputs": [
    {
     "name": "stdout",
     "output_type": "stream",
     "text": [
      "   customer_id first_name last_name                     email      gender  \\\n",
      "0            1     Raynor     Barck       rbarck0@foxnews.com        Male   \n",
      "1            2    Auroora   Wadwell  awadwell1@purevolume.com      Female   \n",
      "2            3     Carlie  Izkovici  cizkovici2@newyorker.com        Male   \n",
      "3            4     Phylys   Mangeot        pmangeot3@fema.gov      Female   \n",
      "4            5       Dede   Physick       dphysick4@chron.com  Polygender   \n",
      "\n",
      "   phone_number   birthdate         city    country  \n",
      "0  894-686-4011  12/15/1987  Los Nogales     Mexico  \n",
      "1  724-684-7213   6/13/1987       Kanuma      Japan  \n",
      "2  425-532-8352   6/14/1971    Penisihan  Indonesia  \n",
      "3  572-963-2456    9/7/1979     Bundoran    Ireland  \n",
      "4  112-398-9211   8/29/1975         Layo       Peru  \n"
     ]
    }
   ],
   "source": [
    "# This reads a .csv file and prints the first few rows.\n",
    "data = pd.read_csv(filepath_or_buffer=\"MOCK_DATA.csv\")\n",
    "print(data.head())"
   ]
  },
  {
   "cell_type": "markdown",
   "id": "0901676e",
   "metadata": {},
   "source": [
    "# DataFrame\n",
    "A table of rows and columns, like a spreadsheet or a SQL table.\n",
    "It’s one of the main data structures in Pandas, and it lets you store and work with structured data easily."
   ]
  },
  {
   "cell_type": "code",
   "execution_count": null,
   "id": "769b3f32",
   "metadata": {},
   "outputs": [
    {
     "name": "stdout",
     "output_type": "stream",
     "text": [
      "      Column1  Column2  Column3  Column4\n",
      "Row1        0        1        2        3\n",
      "Row2        4        5        6        7\n",
      "Row3        8        9       10       11\n",
      "Row4       12       13       14       15\n",
      "Row5       16       17       18       19\n"
     ]
    },
    {
     "data": {
      "text/plain": [
       "Column1    0\n",
       "Column2    1\n",
       "Column3    2\n",
       "Column4    3\n",
       "Name: Row1, dtype: int64"
      ]
     },
     "execution_count": 11,
     "metadata": {},
     "output_type": "execute_result"
    }
   ],
   "source": [
    "# Create a DataFrame\n",
    "# 3 parameters for creating DataFrame - Data, Index(Rows) and Columns\n",
    "df = pd.DataFrame(np.arange(0,20).reshape(5, 4), index=['Row1', 'Row2', 'Row3', 'Row4', 'Row5'], columns=['Column1', 'Column2', 'Column3', 'Column4'])\n",
    "print(df.head())\n",
    "\n",
    "# Save Dataframe to as .csv\n",
    "#df.to_csv('test_data.csv')\n",
    "\n",
    "df.loc['Row1']"
   ]
  },
  {
   "cell_type": "markdown",
   "id": "1f1b3ac2",
   "metadata": {},
   "source": [
    "A DataFrame in the pandas library for Python is a two-dimensional, labeled data structure with columns of potentially different types. It can be thought of as a table, similar to a spreadsheet in Excel or a table in a SQL database. \n",
    "\n",
    "Key characteristics of a pandas DataFrame:\n",
    "- Two-dimensional: It organizes data into rows and columns.\n",
    "- Labeled axes: Both rows (index) and columns have labels, which allows for easy access and manipulation of data.\n",
    "- Heterogeneous data types: Columns can contain different data types (e.g., integers, strings, floats, booleans, dates).\n",
    "- Size-mutable: DataFrames can be modified by adding or removing rows and columns.\n",
    "- Collection of Series: Internally, a DataFrame can be viewed as a dictionary-like container of pandas Series objects, where each Series represents a column."
   ]
  },
  {
   "cell_type": "markdown",
   "id": "448947c3",
   "metadata": {},
   "source": [
    "Timeseries - a row or column having squence of value\n",
    "\n",
    "DataFrame - More than 1 rows / timeseries"
   ]
  },
  {
   "cell_type": "code",
   "execution_count": null,
   "id": "49dd7444",
   "metadata": {},
   "outputs": [
    {
     "name": "stdout",
     "output_type": "stream",
     "text": [
      "\n",
      " Row based Indexing : Column1    0\n",
      "Column2    1\n",
      "Column3    2\n",
      "Column4    3\n",
      "Name: Row1, dtype: int64\n",
      "\n",
      "\n",
      "Column Based Indexing : Row1     0\n",
      "Row2     4\n",
      "Row3     8\n",
      "Row4    12\n",
      "Row5    16\n",
      "Name: Column1, dtype: int64\n",
      "\n",
      "\n",
      "Two Column Based Indexing :       Column1  Column2\n",
      "Row1        0        1\n",
      "Row2        4        5\n",
      "Row3        8        9\n",
      "Row4       12       13\n",
      "Row5       16       17\n",
      "Type of Row 1 : <class 'pandas.core.series.Series'>\n",
      "      Column1  Column2  Column3  Column4\n",
      "Row1        0        1        2        3\n",
      "Row2        4        5        6        7\n",
      "Row3        8        9       10       11\n",
      "Row4       12       13       14       15\n",
      "Row5       16       17       18       19\n",
      "\n",
      "\n",
      "       Column1  Column2  Column3  Column4\n",
      "Row1        0        1        2        3\n",
      "Row2        4        5        6        7\n"
     ]
    }
   ],
   "source": [
    "# Accessing the Element\n",
    "# Loc - Label Based Indexing - Row Based indexing\n",
    "print(f\"\\n Row based Indexing : {df.loc['Row1']}\") # Selects first Row\n",
    "\n",
    "# Loc - Label Based Indexing - Column Based indexing\n",
    "print(f\"\\n\\nColumn Based Indexing : {df['Column1']}\")\n",
    "print(f\"\\n\\nTwo Column Based Indexing : {df[['Column1', 'Column2']]}\")\n",
    "\n",
    "\n",
    "# timeseries - a row or column having squence of value\n",
    "print(f\"Type of Row 1 : {type(df.loc['Row1'])}\")\n",
    "\n",
    "# iloc - Both row and Columns\n",
    "print(df.iloc[:,:]) # All Rows and Columns\n",
    "\n",
    "print(\"\\n\\n\", df.iloc[0:2,:]) # First 2 Rows"
   ]
  },
  {
   "cell_type": "code",
   "execution_count": 28,
   "id": "1d20b625",
   "metadata": {},
   "outputs": [
    {
     "name": "stdout",
     "output_type": "stream",
     "text": [
      "\n",
      "       Column2  Column3  Column4\n",
      "Row1        1        2        3\n",
      "Row2        5        6        7\n",
      "Row3        9       10       11\n",
      "Row4       13       14       15\n",
      "Row5       17       18       19\n",
      "\n",
      " Conver Data Frames to Array [[ 1  2  3]\n",
      " [ 5  6  7]\n",
      " [ 9 10 11]\n",
      " [13 14 15]\n",
      " [17 18 19]]\n",
      "\n",
      " Array Shape (5, 3)\n"
     ]
    }
   ],
   "source": [
    "# Convert DataFrames into Array\n",
    "print(\"\\n\", df.iloc[:,1:]) # all Rows first column onwards\n",
    "print(\"\\n Conver Data Frames to Array\", df.iloc[:,1:].values)\n",
    "print(\"\\n Array Shape\", df.iloc[:,1:].values.shape)"
   ]
  },
  {
   "cell_type": "code",
   "execution_count": null,
   "id": "0e3fa460",
   "metadata": {},
   "outputs": [
    {
     "name": "stdout",
     "output_type": "stream",
     "text": [
      "Get Value Counts: Column1\n",
      "0     1\n",
      "4     1\n",
      "8     1\n",
      "12    1\n",
      "16    1\n",
      "Name: count, dtype: int64\n",
      "Get Unique Values: [ 0  4  8 12 16]\n"
     ]
    }
   ],
   "source": [
    "# Get count of occurance of each value in Column 1\n",
    "print(f\"Get Value Counts: {df['Column1'].value_counts()}\") \n",
    "\n",
    "# get Unique values from Column1\n",
    "print(f\"Get Unique Values: {df['Column1'].unique()}\") "
   ]
  }
 ],
 "metadata": {
  "kernelspec": {
   "display_name": "Python 3",
   "language": "python",
   "name": "python3"
  },
  "language_info": {
   "codemirror_mode": {
    "name": "ipython",
    "version": 3
   },
   "file_extension": ".py",
   "mimetype": "text/x-python",
   "name": "python",
   "nbconvert_exporter": "python",
   "pygments_lexer": "ipython3",
   "version": "3.10.18"
  }
 },
 "nbformat": 4,
 "nbformat_minor": 5
}
