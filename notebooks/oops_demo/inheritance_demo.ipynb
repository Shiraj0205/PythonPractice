{
 "cells": [
  {
   "cell_type": "code",
   "execution_count": 14,
   "id": "29228b56",
   "metadata": {},
   "outputs": [],
   "source": [
    "class car():\n",
    "    def __init__(self, make, model, year):\n",
    "        self.make = make\n",
    "        self.model = model\n",
    "        self.year = year\n",
    "\n",
    "    def display_info(self):\n",
    "        return f\"Year: {self.year} ,Make: {self.make} ,Model: {self.model}\""
   ]
  },
  {
   "cell_type": "code",
   "execution_count": 8,
   "id": "3bf7eb8c",
   "metadata": {},
   "outputs": [
    {
     "name": "stdout",
     "output_type": "stream",
     "text": [
      "Help on car in module __main__ object:\n",
      "\n",
      "class car(builtins.object)\n",
      " |  car(make, model, year)\n",
      " |  \n",
      " |  Methods defined here:\n",
      " |  \n",
      " |  __init__(self, make, model, year)\n",
      " |      Initialize self.  See help(type(self)) for accurate signature.\n",
      " |  \n",
      " |  display_info(self)\n",
      " |  \n",
      " |  ----------------------------------------------------------------------\n",
      " |  Data descriptors defined here:\n",
      " |  \n",
      " |  __dict__\n",
      " |      dictionary for instance variables (if defined)\n",
      " |  \n",
      " |  __weakref__\n",
      " |      list of weak references to the object (if defined)\n",
      "\n",
      "2020 Toyota Camry\n"
     ]
    }
   ],
   "source": [
    "\n",
    "\n",
    "carobj = car(\"Toyota\", \"Camry\", 2020)\n",
    "\n",
    "# list of valid attributes and methods for that object\n",
    "dir(carobj)\n",
    "\n",
    "#gives you documentation for those attributes and methods.\n",
    "help(carobj)\n",
    "\n",
    "print(carobj.display_info())"
   ]
  },
  {
   "cell_type": "code",
   "execution_count": null,
   "id": "22011ffe",
   "metadata": {},
   "outputs": [
    {
     "ename": "NameError",
     "evalue": "name 'base_info' is not defined",
     "output_type": "error",
     "traceback": [
      "\u001b[1;31m---------------------------------------------------------------------------\u001b[0m",
      "\u001b[1;31mNameError\u001b[0m                                 Traceback (most recent call last)",
      "Cell \u001b[1;32mIn[16], line 13\u001b[0m\n\u001b[0;32m      9\u001b[0m         \u001b[38;5;28;01mreturn\u001b[39;00m \u001b[38;5;124mf\u001b[39m\u001b[38;5;124m\"\u001b[39m\u001b[38;5;132;01m{\u001b[39;00mbase_info\u001b[38;5;132;01m}\u001b[39;00m\u001b[38;5;124m, Self Drive: \u001b[39m\u001b[38;5;132;01m{\u001b[39;00m\u001b[38;5;28mself\u001b[39m\u001b[38;5;241m.\u001b[39mselfdrive\u001b[38;5;132;01m}\u001b[39;00m\u001b[38;5;124m\"\u001b[39m\n\u001b[0;32m     12\u001b[0m audiq7 \u001b[38;5;241m=\u001b[39m audi_car(\u001b[38;5;124m\"\u001b[39m\u001b[38;5;124mAudi\u001b[39m\u001b[38;5;124m\"\u001b[39m, \u001b[38;5;124m\"\u001b[39m\u001b[38;5;124mA8\u001b[39m\u001b[38;5;124m\"\u001b[39m, \u001b[38;5;241m2021\u001b[39m, \u001b[38;5;28;01mTrue\u001b[39;00m)\n\u001b[1;32m---> 13\u001b[0m \u001b[38;5;28mprint\u001b[39m(\u001b[43maudiq7\u001b[49m\u001b[38;5;241;43m.\u001b[39;49m\u001b[43mdisplay_info\u001b[49m\u001b[43m(\u001b[49m\u001b[43m)\u001b[49m)\n",
      "Cell \u001b[1;32mIn[16], line 9\u001b[0m, in \u001b[0;36maudi_car.display_info\u001b[1;34m(self)\u001b[0m\n\u001b[0;32m      7\u001b[0m \u001b[38;5;28;01mdef\u001b[39;00m\u001b[38;5;250m \u001b[39m\u001b[38;5;21mdisplay_info\u001b[39m(\u001b[38;5;28mself\u001b[39m):\n\u001b[0;32m      8\u001b[0m     \u001b[38;5;66;03m#base_info = super().display_info()\u001b[39;00m\n\u001b[1;32m----> 9\u001b[0m     \u001b[38;5;28;01mreturn\u001b[39;00m \u001b[38;5;124mf\u001b[39m\u001b[38;5;124m\"\u001b[39m\u001b[38;5;132;01m{\u001b[39;00m\u001b[43mbase_info\u001b[49m\u001b[38;5;132;01m}\u001b[39;00m\u001b[38;5;124m, Self Drive: \u001b[39m\u001b[38;5;132;01m{\u001b[39;00m\u001b[38;5;28mself\u001b[39m\u001b[38;5;241m.\u001b[39mselfdrive\u001b[38;5;132;01m}\u001b[39;00m\u001b[38;5;124m\"\u001b[39m\n",
      "\u001b[1;31mNameError\u001b[0m: name 'base_info' is not defined"
     ]
    }
   ],
   "source": [
    "class audi_car(car):\n",
    "    def __init__(self, make, model, year, selfdrive):\n",
    "        # Initialize the base class (car)\n",
    "        super().__init__(make, model, year)\n",
    "        self.selfdrive = selfdrive\n",
    "\n",
    "    def display_info(self):\n",
    "        # Call the base class method to get basic info\n",
    "        base_info = super().display_info()\n",
    "        return f\"{base_info}, Self Drive: {self.selfdrive}\"\n",
    "\n",
    "\n",
    "audiq7 = audi_car(\"Audi\", \"A8\", 2021, True)\n",
    "print(audiq7.display_info())"
   ]
  }
 ],
 "metadata": {
  "kernelspec": {
   "display_name": "env",
   "language": "python",
   "name": "python3"
  },
  "language_info": {
   "codemirror_mode": {
    "name": "ipython",
    "version": 3
   },
   "file_extension": ".py",
   "mimetype": "text/x-python",
   "name": "python",
   "nbconvert_exporter": "python",
   "pygments_lexer": "ipython3",
   "version": "3.10.18"
  }
 },
 "nbformat": 4,
 "nbformat_minor": 5
}
