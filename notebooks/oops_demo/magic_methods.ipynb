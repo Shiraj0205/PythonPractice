{
 "cells": [
  {
   "cell_type": "markdown",
   "id": "6703c73b",
   "metadata": {},
   "source": [
    "## Magic Methods or Dunder Methods\n",
    "\n",
    "- Magic methods in Python, also known as \"dunder methods\" (short for \"double underscore\"), are special methods that are preceded and followed by two underscores (e.g., __init__, __add__). \n",
    "\n",
    "# Automatic Invocation:\n",
    "Python automatically calls these methods in specific situations. For example, when you create a new instance of a class, the __init__ method is automatically called to initialize the object's attributes. When you use the + operator with instances of your class, the __add__ method is invoked.\n",
    "\n",
    "# Operator Overloading:\n",
    "Magic methods enable operator overloading, allowing you to customize the behavior of operators (like +, -, *, ==, etc.) when applied to instances of your classes. This makes your custom objects behave more intuitively and consistently with built-in types."
   ]
  },
  {
   "cell_type": "markdown",
   "id": "424a6c40",
   "metadata": {},
   "source": [
    "## --str--\n",
    "\n",
    "The __str__ method is intended to provide an \"informal\" or user-friendly string representation of an object. This representation should be easily understandable by a human user and is often used for displaying information about the object in a clear and concise manner. "
   ]
  },
  {
   "cell_type": "code",
   "execution_count": null,
   "id": "1b7ee765",
   "metadata": {},
   "outputs": [
    {
     "name": "stdout",
     "output_type": "stream",
     "text": [
      "['__class__', '__delattr__', '__dict__', '__dir__', '__doc__', '__eq__', '__format__', '__ge__', '__getattribute__', '__gt__', '__hash__', '__init__', '__init_subclass__', '__le__', '__lt__', '__module__', '__ne__', '__new__', '__reduce__', '__reduce_ex__', '__repr__', '__setattr__', '__sizeof__', '__str__', '__subclasshook__', '__weakref__', 'display_info', 'make', 'model', 'year']\n",
      "Overriding __str__ : 2020 Toyota Camry\n",
      "Size of object is 100 bytes\n"
     ]
    }
   ],
   "source": [
    "class car:\n",
    "    def __init__(self, make, model, year):\n",
    "        self.make = make\n",
    "        self.model = model\n",
    "        self.year = year\n",
    "\n",
    "    def __new__(cls, *args, **kwargs):\n",
    "        print(\"Creating instance of class\")\n",
    "        return super(car, cls).__new__(cls)\n",
    "        \n",
    "    def display_info(self):\n",
    "        return f\"Year: {self.year} ,Make: {self.make} ,Model: {self.model}\"\n",
    "\n",
    "    # overriding the __str__ method\n",
    "    def __str__(self):\n",
    "        return f\"Overriding __str__ : {self.year} {self.make} {self.model}\"\n",
    "\n",
    "    # overriding the __sizeof__ method\n",
    "    def __sizeof__(self):\n",
    "        return \"Size of object is 100 bytes\"\n",
    "\n",
    "cobj = car(\"Toyota\", \"Camry\", 2020)\n",
    "\n",
    "\n",
    "print(dir(cobj))  # to see all the attributes and methods of the object \n",
    "\n",
    "print(cobj)\n",
    "\n",
    "print(cobj.__sizeof__())  # calling the __sizeof__ method\n"
   ]
  }
 ],
 "metadata": {
  "kernelspec": {
   "display_name": "env",
   "language": "python",
   "name": "python3"
  },
  "language_info": {
   "codemirror_mode": {
    "name": "ipython",
    "version": 3
   },
   "file_extension": ".py",
   "mimetype": "text/x-python",
   "name": "python",
   "nbconvert_exporter": "python",
   "pygments_lexer": "ipython3",
   "version": "3.10.18"
  }
 },
 "nbformat": 4,
 "nbformat_minor": 5
}
