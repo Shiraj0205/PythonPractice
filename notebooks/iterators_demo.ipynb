{
 "cells": [
  {
   "cell_type": "markdown",
   "id": "139e8d65",
   "metadata": {},
   "source": [
    "## Iterators\n",
    "\n",
    " - is an object used to traverse through all the elements of a collection (like lists, tuples, or dictionaries) one element at a time. \n",
    " - It follows the iterator protocol, which involves two key methods:\n",
    "   - \\_\\_iter_\\_\\(): Returns the iterator object itself.\n",
    "   - \\_\\_next_\\_\\(): Returns the next value from the sequence. Raises StopIteration when the sequence ends."
   ]
  },
  {
   "cell_type": "markdown",
   "id": "4b59ff03",
   "metadata": {},
   "source": [
    "# Why do we need iterators in Python\n",
    "- Lazy Evaluation : Processes items only when needed, saving memory.\n",
    "- Generator Integration : Pairs well with generators and functional tools.\n",
    "- Stateful Traversal : Remembers position between calls.\n",
    "- Uniform Looping : Works across data types with the same syntax.\n",
    "- Composable Logic : Easily build complex pipelines using tools like itertools."
   ]
  },
  {
   "cell_type": "code",
   "execution_count": 2,
   "id": "90eb0169",
   "metadata": {},
   "outputs": [
    {
     "name": "stdout",
     "output_type": "stream",
     "text": [
      "<list_iterator object at 0x00000220265744C0>\n",
      "1\n",
      "2\n"
     ]
    }
   ],
   "source": [
    "numbers = [1, 2, 3, 4, 5]\n",
    "iterobj = iter(numbers)\n",
    "print(iterobj)\n",
    "\n",
    "print(next(iterobj))\n",
    "print(next(iterobj))\n"
   ]
  },
  {
   "cell_type": "code",
   "execution_count": null,
   "id": "e6b56f07",
   "metadata": {},
   "outputs": [
    {
     "name": "stdout",
     "output_type": "stream",
     "text": [
      "3\n",
      "4\n",
      "5\n",
      "End of the iterator\n"
     ]
    }
   ],
   "source": [
    "li = [100, 200, 300, 400, 500]\n",
    "\n",
    "while True:\n",
    "    try:\n",
    "        item = next(iterobj)\n",
    "        print(item)\n",
    "    # Catch the StopIteration exception to break the loop\n",
    "    except StopIteration:\n",
    "        print(\"End of the iterator\")\n",
    "        break"
   ]
  }
 ],
 "metadata": {
  "kernelspec": {
   "display_name": "env",
   "language": "python",
   "name": "python3"
  },
  "language_info": {
   "codemirror_mode": {
    "name": "ipython",
    "version": 3
   },
   "file_extension": ".py",
   "mimetype": "text/x-python",
   "name": "python",
   "nbconvert_exporter": "python",
   "pygments_lexer": "ipython3",
   "version": "3.10.18"
  }
 },
 "nbformat": 4,
 "nbformat_minor": 5
}
