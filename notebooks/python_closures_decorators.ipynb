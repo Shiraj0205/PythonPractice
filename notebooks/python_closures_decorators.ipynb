{
 "cells": [
  {
   "cell_type": "markdown",
   "id": "68b2b9be",
   "metadata": {},
   "source": [
    "# Function Copy by assignment"
   ]
  },
  {
   "cell_type": "code",
   "execution_count": null,
   "id": "67385b49",
   "metadata": {},
   "outputs": [
    {
     "name": "stdout",
     "output_type": "stream",
     "text": [
      "Welcome to Python Decorators\n"
     ]
    }
   ],
   "source": [
    "def func_welcome():\n",
    "    return \"Welcome to Python Decorators\"\n",
    "\n",
    "#print(func_welcome())\n",
    "\n",
    "# copying function by assignment\n",
    "copyobj = func_welcome()\n",
    "\n",
    "# deleting original function\n",
    "del func_welcome\n",
    "\n",
    "\n",
    "print(copyobj)\n"
   ]
  },
  {
   "cell_type": "markdown",
   "id": "7fa4315d",
   "metadata": {},
   "source": [
    "## Closures\n",
    "\n",
    "Closures in Python are like “memory-equipped” functions. They allow a function to remember values from the environment in which it was created even if that environment no longer exists. Closures are used in functional programming, event handling and callback functions where you need to retain some state without using global variables.\n",
    "\n",
    "# How Closures are Created\n",
    "- A closure is formed when:\n",
    "\n",
    "    - A function is defined inside another function (nested function).\n",
    "    - The inner function references variables from the outer function.\n",
    "    - The outer function returns the inner function.\n",
    "\n",
    "\n",
    "## How Closures Work Internally?\n",
    "- When Python creates a closure:\n",
    "\n",
    "    - It stores outer function’s variables in a special attribute called __closure__.\n",
    "    -  The inner function keeps a reference, not a copy, to these variables."
   ]
  },
  {
   "cell_type": "code",
   "execution_count": null,
   "id": "a71bbfc1",
   "metadata": {},
   "outputs": [
    {
     "name": "stdout",
     "output_type": "stream",
     "text": [
      "30\n"
     ]
    }
   ],
   "source": [
    "def outer_function(x):\n",
    "\n",
    "    # closure function\n",
    "    #  inner function retains outer function’s variable even after outer function has finished executing.\n",
    "    def inner_function(y):\n",
    "        return x + y\n",
    "\n",
    "    # return closure function\n",
    "    return inner_function\n",
    "\n",
    "closure = outer_function(10)\n",
    "print(closure(20)) # Outputs 30\n"
   ]
  },
  {
   "cell_type": "markdown",
   "id": "9f339c3d",
   "metadata": {},
   "source": [
    "# Closure Example 2\n",
    "\n",
    "- Code demonstrates a closure that maintains a running counter by remembering and updating a variable from its outer scope."
   ]
  },
  {
   "cell_type": "code",
   "execution_count": null,
   "id": "67598995",
   "metadata": {},
   "outputs": [
    {
     "name": "stdout",
     "output_type": "stream",
     "text": [
      "1\n",
      "2\n"
     ]
    }
   ],
   "source": [
    "def make_counter():\n",
    "    count = 0\n",
    "\n",
    "    def counter():\n",
    "        # MODIFYING the count variable from the enclosing scope\n",
    "        nonlocal count\n",
    "        count += 1\n",
    "        return count\n",
    "\n",
    "    return counter\n",
    "\n",
    "counter1 = make_counter()\n",
    "print(counter1())  # Outputs: 1\n",
    "print(counter1())  # Outputs: 2"
   ]
  },
  {
   "cell_type": "code",
   "execution_count": 9,
   "id": "3c1ff723",
   "metadata": {},
   "outputs": [
    {
     "name": "stdout",
     "output_type": "stream",
     "text": [
      "Hello World\n",
      "Hello Python\n"
     ]
    }
   ],
   "source": [
    "def str_outer_function(pref):\n",
    "\n",
    "    def str_inner_function(message):\n",
    "        return f\"{pref} {message}\"\n",
    "\n",
    "    return str_inner_function\n",
    "\n",
    "str_closure = str_outer_function(\"Hello\")\n",
    "print(str_closure(\"World\"))  # Outputs: Hello World\n",
    "print(str_closure(\"Python\"))  # Outputs: Hello Python"
   ]
  },
  {
   "cell_type": "markdown",
   "id": "d0f3b5fc",
   "metadata": {},
   "source": [
    "## Decorators\n",
    "\n",
    "- Flexible way to modify or extend behavior of functions or methods, without changing their actual code.\n",
    "- A decorator is essentially a function that takes another function as an argument and returns a new function with enhanced functionality.\n",
    "- Decorators are often used in scenarios such as logging, authentication and memorization, allowing us to add additional functionality to existing functions or methods in a clean, reusable way.\n"
   ]
  },
  {
   "cell_type": "code",
   "execution_count": 4,
   "id": "c6c2cc4b",
   "metadata": {},
   "outputs": [
    {
     "name": "stdout",
     "output_type": "stream",
     "text": [
      "5\n",
      "15\n"
     ]
    }
   ],
   "source": [
    "def main_function(func):\n",
    "\n",
    "    def wrapper_function():\n",
    "        return func([1,2,3,4,5])\n",
    "\n",
    "    return wrapper_function\n",
    "\n",
    "# passing len function as argument\n",
    "mobj = main_function(len)\n",
    "\n",
    "# passing sum function as argument\n",
    "sumobj = main_function(sum)\n",
    "print(mobj())  # Outputs: 5\n",
    "print(sumobj())  # Outputs: 15"
   ]
  },
  {
   "cell_type": "markdown",
   "id": "da9b1657",
   "metadata": {},
   "source": [
    "- Explanation:\n",
    "\n",
    "    - decorator takes the greet function as an argument.\n",
    "    - It returns a new function (wrapper) that first prints a message, calls greet() and then prints another message.\n",
    "    - @decorator syntax is a shorthand for greet = decorator(greet)."
   ]
  },
  {
   "cell_type": "code",
   "execution_count": null,
   "id": "05e43e32",
   "metadata": {},
   "outputs": [
    {
     "name": "stdout",
     "output_type": "stream",
     "text": [
      "Before calling the function.\n",
      "Hello, World!\n",
      "After calling the function.\n"
     ]
    }
   ],
   "source": [
    "def decorator_function(func):\n",
    "    def wrapper():\n",
    "        print(\"Before calling the function.\")\n",
    "        func()\n",
    "        print(\"After calling the function.\")\n",
    "    return wrapper\n",
    "\n",
    "@decorator_function # Applying the decorator to a function\n",
    "def greet():\n",
    "    print(\"Hello, World!\")\n",
    "    \n",
    "greet()"
   ]
  }
 ],
 "metadata": {
  "kernelspec": {
   "display_name": "env",
   "language": "python",
   "name": "python3"
  },
  "language_info": {
   "codemirror_mode": {
    "name": "ipython",
    "version": 3
   },
   "file_extension": ".py",
   "mimetype": "text/x-python",
   "name": "python",
   "nbconvert_exporter": "python",
   "pygments_lexer": "ipython3",
   "version": "3.10.18"
  }
 },
 "nbformat": 4,
 "nbformat_minor": 5
}
