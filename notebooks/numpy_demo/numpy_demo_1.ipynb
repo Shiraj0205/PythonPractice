{
 "cells": [
  {
   "cell_type": "code",
   "execution_count": 2,
   "id": "ccb935b2",
   "metadata": {},
   "outputs": [],
   "source": [
    "import numpy as np"
   ]
  },
  {
   "cell_type": "markdown",
   "id": "11140f54",
   "metadata": {},
   "source": [
    "NumPy is the fundamental package for scientific computing in Python. It is a Python library that provides a multidimensional array object, various derived objects (such as masked arrays and matrices), and an assortment of routines for fast operations on arrays, including mathematical, logical, shape manipulation, sorting, selecting, I/O, discrete Fourier transforms, basic linear algebra, basic statistical operations, random simulation and much more."
   ]
  },
  {
   "cell_type": "markdown",
   "id": "aa7ede39",
   "metadata": {},
   "source": [
    "Arrays are stored in contiguous memory locations, enabling faster computations"
   ]
  },
  {
   "cell_type": "code",
   "execution_count": 3,
   "id": "6e66fd42",
   "metadata": {},
   "outputs": [
    {
     "name": "stdout",
     "output_type": "stream",
     "text": [
      "Array Type : <class 'numpy.ndarray'>\n",
      "1d Array : [12 56 85 63 47]\n"
     ]
    }
   ],
   "source": [
    "my_list=[12, 56,85, 63,47]\n",
    "arr_1d = np.array(my_list)\n",
    "print(f\"Array Type : {type(arr_1d)}\")\n",
    "print(f\"1d Array : {arr_1d}\")"
   ]
  },
  {
   "cell_type": "markdown",
   "id": "a036e39c",
   "metadata": {},
   "source": []
  },
  {
   "cell_type": "code",
   "execution_count": 4,
   "id": "2911cc8d",
   "metadata": {},
   "outputs": [
    {
     "name": "stdout",
     "output_type": "stream",
     "text": [
      "Array Dimension: (3, 5)\n",
      "[[11 22 33 44 55]\n",
      " [15 25 35 45 65]\n",
      " [21 31 41 51 61]]\n",
      "\n",
      "Rehaped Array : [[11 22 33]\n",
      " [44 55 15]\n",
      " [25 35 45]\n",
      " [65 21 31]\n",
      " [41 51 61]]\n",
      "\n",
      " [[11 22 33 44 55 15 25 35 45 65 21 31 41 51 61]]\n"
     ]
    }
   ],
   "source": [
    "# Two Dimensional Array\n",
    "list_1 = [11, 22, 33, 44, 55]\n",
    "list_2 = [15, 25, 35, 45, 65]\n",
    "list_3 = [21, 31, 41, 51, 61]\n",
    "\n",
    "arr_md = np.array([list_1, list_2, list_3])\n",
    "print(f\"Array Dimension: {arr_md.shape}\")\n",
    "print(arr_md)\n",
    "\n",
    "# Reshape Array\n",
    "arr_md_reshaped = arr_md.reshape(5, 3)\n",
    "print(f'\\nRehaped Array : {arr_md_reshaped}')\n",
    "\n",
    "# For reshape number of Element has to be same\n",
    "# e.g. 5 * 3 = 15\n",
    "# 3 * 5  - Valid\n",
    "# 1 * 15 - Valid\n",
    "# 4 * 5 - Invalid\n",
    "\n",
    "array_md_reshaped_2 = arr_md.reshape(1, 15)\n",
    "print(\"\\n\", array_md_reshaped_2)"
   ]
  },
  {
   "cell_type": "code",
   "execution_count": 5,
   "id": "200399a8",
   "metadata": {},
   "outputs": [
    {
     "name": "stdout",
     "output_type": "stream",
     "text": [
      "Java\n"
     ]
    }
   ],
   "source": [
    "# Indexing\n",
    "arr_str = np.array([\"Python\", \"Java\", \"C#\", \"Azure\", 123])\n",
    "print(arr_str[1]) # Access first index"
   ]
  },
  {
   "cell_type": "code",
   "execution_count": 6,
   "id": "a7553358",
   "metadata": {},
   "outputs": [
    {
     "name": "stdout",
     "output_type": "stream",
     "text": [
      "[[11 22 33 44 55]\n",
      " [15 25 35 45 65]\n",
      " [21 31 41 51 61]]\n",
      "\n",
      "\n",
      " [[11 22 33 44 55]\n",
      " [15 25 35 45 65]]\n",
      "\n",
      "\n",
      " [[22 33]\n",
      " [25 35]]\n"
     ]
    }
   ],
   "source": [
    "arr_md_2 = np.array([[11, 22, 33, 44, 55],\n",
    " [15, 25, 35, 45, 65],\n",
    " [21, 31, 41, 51, 61]])\n",
    "\n",
    "print(arr_md_2[:,:]) # Print all rows and Columns\n",
    "#print(arr_md_2[0,4]) # Print First Row and Fifth Column Value\n",
    "\n",
    "print(\"\\n\\n\", arr_md_2[0:2,:]) # First 2 rows and all third columns\n",
    "\n",
    "print(\"\\n\\n\", arr_md_2[0:2,1:3]) # First 2 rows and second and third columns\n"
   ]
  },
  {
   "cell_type": "code",
   "execution_count": 9,
   "id": "e28d7ab2",
   "metadata": {},
   "outputs": [
    {
     "name": "stdout",
     "output_type": "stream",
     "text": [
      "[ 1  4  7 10 13]\n"
     ]
    }
   ],
   "source": [
    "# To create an array of evenly spaced values within a given interval.\n",
    "print(np.arange(1, 15, step=3))\n"
   ]
  },
  {
   "cell_type": "code",
   "execution_count": null,
   "id": "c9c3a7dd",
   "metadata": {},
   "outputs": [
    {
     "name": "stdout",
     "output_type": "stream",
     "text": [
      "\n",
      " Array LinSpace : [  1.           3.02040816   5.04081633   7.06122449   9.08163265\n",
      "  11.10204082  13.12244898  15.14285714  17.16326531  19.18367347\n",
      "  21.20408163  23.2244898   25.24489796  27.26530612  29.28571429\n",
      "  31.30612245  33.32653061  35.34693878  37.36734694  39.3877551\n",
      "  41.40816327  43.42857143  45.44897959  47.46938776  49.48979592\n",
      "  51.51020408  53.53061224  55.55102041  57.57142857  59.59183673\n",
      "  61.6122449   63.63265306  65.65306122  67.67346939  69.69387755\n",
      "  71.71428571  73.73469388  75.75510204  77.7755102   79.79591837\n",
      "  81.81632653  83.83673469  85.85714286  87.87755102  89.89795918\n",
      "  91.91836735  93.93877551  95.95918367  97.97959184 100.        ]\n"
     ]
    }
   ],
   "source": [
    "# Generate array of Evenly Spaced Numbers\n",
    "# Generate 50 evenly spaced numbers between 1 and 100 (inclusive)\n",
    "print(f\"\\n Array LinSpace : {np.linspace(1, 100, 50)}\")"
   ]
  },
  {
   "cell_type": "markdown",
   "id": "dfed0581",
   "metadata": {},
   "source": [
    "# Broadvasting\n",
    "The term broadcasting describes how NumPy treats arrays with different shapes during arithmetic operations. Subject to certain constraints, the smaller array is “broadcast” across the larger array so that they have compatible shapes. Broadcasting provides a means of vectorizing array operations so that looping occurs in C instead of Python. It does this without making needless copies of data and usually leads to efficient algorithm implementations. "
   ]
  },
  {
   "cell_type": "code",
   "execution_count": 11,
   "id": "b6076cd5",
   "metadata": {},
   "outputs": [
    {
     "name": "stdout",
     "output_type": "stream",
     "text": [
      "[[ 3  7 10]\n",
      " [ 7  6 13]]\n"
     ]
    }
   ],
   "source": [
    "# Broadcasting Example\n",
    "num_array_5 = np.array([[2, 3, 4], [6, 2, 7]]) # Shape (2, 3)\n",
    "num_array_6 = np.array([[1, 4, 6]]) # Shape (3,)\n",
    "\n",
    "# broadcsting allows the addition\n",
    "print(np.add(num_array_5, num_array_6))\n"
   ]
  },
  {
   "cell_type": "code",
   "execution_count": 17,
   "id": "9d05808a",
   "metadata": {},
   "outputs": [
    {
     "name": "stdout",
     "output_type": "stream",
     "text": [
      "[  4   7   5 100 100 100]\n",
      "\n",
      "\n",
      "Num Array 88: [  4   7   5 200 200 200]\n",
      "\n",
      "\n",
      "Num Array 8: [  4   7   5 200 200 200]\n",
      "\n",
      "\n",
      "Num Array 8: [  4   7   5 200 200 200]\n",
      "\n",
      "Num Array 8888: [  4   7   5 300 300 300]\n"
     ]
    }
   ],
   "source": [
    "# Copy function and broadcasting\n",
    "num_array_8 = np.array([4, 7, 5, 2, 9, 25])\n",
    "# From 3rd Index onwards replace values with 100\n",
    "num_array_8[3:] = 100\n",
    "print(num_array_8)\n",
    "\n",
    "# Deep Copy.\n",
    "num_array_88 = num_array_8\n",
    "num_array_88[3:] = 200\n",
    "print(f\"\\n\\nNum Array 88: {num_array_88}\")\n",
    "# Update original array too. Because arrays are reference type.\n",
    "print(f\"\\n\\nNum Array 8: {num_array_8}\")\n",
    "\n",
    "# Shallow Copy Array\n",
    "num_array_888 = num_array_8.copy()\n",
    "num_array_888[3:] = 300\n",
    "print(f\"\\n\\nNum Array 8: {num_array_8}\") # Wont update original\n",
    "print(f\"\\nNum Array 8888: {num_array_888}\")\n"
   ]
  },
  {
   "cell_type": "code",
   "execution_count": null,
   "id": "ecebce3e",
   "metadata": {},
   "outputs": [
    {
     "name": "stdout",
     "output_type": "stream",
     "text": [
      "[ True  True  True False False]\n",
      "[ 0  4  6 10 16]\n",
      "[0 2 3]\n"
     ]
    }
   ],
   "source": [
    "# conditions useful in exploratory Data Analysis\n",
    "num_array_10 = np.array([0, 2, 3, 5, 8])\n",
    "\n",
    "# if value less then 5 return True otherwise False\n",
    "print(num_array_10 < 5) \n",
    "\n",
    "# Multiply each element by 2\n",
    "print(num_array_10 * 2)\n",
    "\n",
    "# Return all elements less then 5\n",
    "print(num_array_10[num_array_10 < 5])"
   ]
  },
  {
   "cell_type": "code",
   "execution_count": 29,
   "id": "18a74034",
   "metadata": {},
   "outputs": [
    {
     "name": "stdout",
     "output_type": "stream",
     "text": [
      "\n",
      " Zero Array : [[0. 0. 0.]\n",
      " [0. 0. 0.]\n",
      " [0. 0. 0.]\n",
      " [0. 0. 0.]\n",
      " [0. 0. 0.]]\n",
      "\n",
      " Ones Array: [[1. 1.]\n",
      " [1. 1.]\n",
      " [1. 1.]]\n",
      "\n",
      "Random Array: [[0.14823927 0.17427585]\n",
      " [0.69602367 0.76644373]\n",
      " [0.69056318 0.2249806 ]\n",
      " [0.40163289 0.58418596]]\n",
      "\n",
      "Random Array 2: [[ 0.16193085 -1.20122826]\n",
      " [ 1.52516594  1.28641671]\n",
      " [ 2.25340771 -0.65019706]\n",
      " [ 0.05984552  0.33090825]]\n"
     ]
    }
   ],
   "source": [
    "num_array_zeros = np.zeros((5, 3))\n",
    "print(f\"\\n Zero Array : {num_array_zeros}\")\n",
    "\n",
    "num_array_ones = np.ones((3, 2))\n",
    "print(f\"\\n Ones Array: {num_array_ones}\")\n",
    "\n",
    "# Random Distribution\n",
    "array_rand_1 = np.random.rand(4, 2)\n",
    "print(f\"\\nRandom Array: {array_rand_1}\")\n",
    "\n",
    "# Generate a single random number from the standard normal distribution or Gaussian Distribution\n",
    "array_rand_2 = np.random.randn(4,2)\n",
    "print(f\"\\nRandom Array 2: {array_rand_2}\")"
   ]
  },
  {
   "cell_type": "code",
   "execution_count": 32,
   "id": "6751d88f",
   "metadata": {},
   "outputs": [
    {
     "name": "stdout",
     "output_type": "stream",
     "text": [
      "\n",
      "Random Array Int: [[67 56 76 76]\n",
      " [54 96 91 38]\n",
      " [70 71 19 32]\n",
      " [98 57 70 22]\n",
      " [ 1 93 51 33]]\n",
      "\n",
      " Random Sample : [[0.50683188 0.58785362 0.20010252 0.82055765]\n",
      " [0.08065738 0.01274001 0.6765199  0.6747971 ]]\n"
     ]
    }
   ],
   "source": [
    "# Int array, Select 20 numbers between 0 to 200 and create create array of shape (5, 4)\n",
    "array_rand_int = np.random.randint(0, 100, 20).reshape(5, 4)\n",
    "print(f\"\\nRandom Array Int: {array_rand_int}\")\n",
    "\n",
    "# Array of random float numbers between 0 and 1\n",
    "array_rand_float = np.random.random_sample(8).reshape(2, 4)\n",
    "print(f\"\\n Random Sample : {array_rand_float}\")"
   ]
  }
 ],
 "metadata": {
  "kernelspec": {
   "display_name": "Python 3",
   "language": "python",
   "name": "python3"
  },
  "language_info": {
   "codemirror_mode": {
    "name": "ipython",
    "version": 3
   },
   "file_extension": ".py",
   "mimetype": "text/x-python",
   "name": "python",
   "nbconvert_exporter": "python",
   "pygments_lexer": "ipython3",
   "version": "3.10.18"
  }
 },
 "nbformat": 4,
 "nbformat_minor": 5
}
