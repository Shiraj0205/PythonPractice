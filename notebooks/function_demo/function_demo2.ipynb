{
 "cells": [
  {
   "cell_type": "markdown",
   "id": "faa059bf",
   "metadata": {},
   "source": [
    "## lambda function\n",
    "- A lambda function is an anonymous function defined with the lambda keyword.\n",
    "- It’s basically shorthand for def when you need a small, throwaway function.\n",
    "\n",
    "*lambda args : expression*\n",
    "\n",
    "- No def, no return\n",
    "- The body must be single expression (not statements)"
   ]
  },
  {
   "cell_type": "code",
   "execution_count": 5,
   "id": "8d92b204",
   "metadata": {},
   "outputs": [
    {
     "name": "stdout",
     "output_type": "stream",
     "text": [
      "30\n"
     ]
    }
   ],
   "source": [
    "product = lambda x, y : x * y\n",
    "print(product(5, 6))"
   ]
  },
  {
   "cell_type": "markdown",
   "id": "8ab30b84",
   "metadata": {},
   "source": [
    "## map function\n",
    "\n",
    "- map(func, iterable, ...) applies func to each element of one (or more) iterables, yielding the results.\n",
    "- It returns a lazy iterator (Python 3+), not a list.\n",
    "- Stops when the shortest iterable is exhausted."
   ]
  },
  {
   "cell_type": "code",
   "execution_count": 1,
   "id": "14b853df",
   "metadata": {},
   "outputs": [],
   "source": [
    "def odd_or_even(number):\n",
    "    if number % 2 == 0:\n",
    "        return \"Even\"\n",
    "    else:\n",
    "        return \"Odd\""
   ]
  },
  {
   "cell_type": "markdown",
   "id": "f69b0a12",
   "metadata": {},
   "source": [
    "# Under the hood\n",
    "- map returns a map object, which is an iterator.\n",
    "- Function is applied on demand (when you iterate).\n",
    "- Roughly equivalent to:"
   ]
  },
  {
   "cell_type": "code",
   "execution_count": null,
   "id": "1dccb619",
   "metadata": {},
   "outputs": [],
   "source": [
    "def map_(func, *iterables):\n",
    "    iterables = [iter(it) for it in iterables]\n",
    "    while True:\n",
    "        try:\n",
    "            args = [next(it) for it in iterables]\n",
    "        except StopIteration:\n",
    "            return\n",
    "        yield func(*args)"
   ]
  },
  {
   "cell_type": "markdown",
   "id": "d675d39f",
   "metadata": {},
   "source": [
    "## When to use\n",
    "- When you want lazy evaluation.\n",
    "- When you already have a pure function and don’t need extra state.\n",
    "- With multiple iterables (less verbose than zip + comprehension)."
   ]
  },
  {
   "cell_type": "code",
   "execution_count": 4,
   "id": "4dcedb10",
   "metadata": {},
   "outputs": [
    {
     "name": "stdout",
     "output_type": "stream",
     "text": [
      "Odd\n",
      "['Odd', 'Even', 'Odd', 'Even', 'Odd']\n"
     ]
    }
   ],
   "source": [
    "print(odd_or_even(5))\n",
    "\n",
    "# lazy evaluation, map returns an iterator\n",
    "result = map(odd_or_even, [1, 2, 3, 4, 5])\n",
    "\n",
    "# Convert the map object to a list to force evaluation and print the results\n",
    "print(list(result))"
   ]
  },
  {
   "cell_type": "markdown",
   "id": "c71247db",
   "metadata": {},
   "source": [
    "## filter function\n",
    "\n",
    "- filter(func, iterable) → returns an iterator containing only the elements of iterable for which func(element) is truthy.\n",
    "- func must be a function returning True or False (or something truthy/falsy).\n",
    "- If func is None, filter removes all falsy values.\n",
    "- memory is assigned when list applied on iterator"
   ]
  },
  {
   "cell_type": "code",
   "execution_count": 6,
   "id": "fdd0cfff",
   "metadata": {},
   "outputs": [
    {
     "name": "stdout",
     "output_type": "stream",
     "text": [
      "Even Numbers :  [2, 4]\n"
     ]
    }
   ],
   "source": [
    "nums = [1, 2, 3, 4, 5]\n",
    "evens = filter(lambda x: x % 2 ==0, nums)\n",
    "\n",
    "print(\"Even Numbers : \", list(evens))\n"
   ]
  },
  {
   "cell_type": "code",
   "execution_count": 7,
   "id": "895293d7",
   "metadata": {},
   "outputs": [
    {
     "name": "stdout",
     "output_type": "stream",
     "text": [
      "['hello', 'world', 42]\n"
     ]
    }
   ],
   "source": [
    "data = [\"\", \"hello\", None, \"world\", 0, 42]\n",
    "only_data = filter(None, data)\n",
    "print(list(only_data))  # ['hello', 'world', 42]"
   ]
  }
 ],
 "metadata": {
  "kernelspec": {
   "display_name": "Python 3",
   "language": "python",
   "name": "python3"
  },
  "language_info": {
   "codemirror_mode": {
    "name": "ipython",
    "version": 3
   },
   "file_extension": ".py",
   "mimetype": "text/x-python",
   "name": "python",
   "nbconvert_exporter": "python",
   "pygments_lexer": "ipython3",
   "version": "3.10.18"
  }
 },
 "nbformat": 4,
 "nbformat_minor": 5
}
