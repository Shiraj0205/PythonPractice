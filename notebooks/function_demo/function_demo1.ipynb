{
 "cells": [
  {
   "cell_type": "markdown",
   "id": "baa035b5",
   "metadata": {},
   "source": [
    "## Function\n",
    "- a function is a first-class object defined with def (or lambda) that encapsulates a block of code under a name, with optional parameters and a return value. \n",
    "- Functions allow for abstraction, reusability, composition, and testability."
   ]
  },
  {
   "cell_type": "markdown",
   "id": "a25c7057",
   "metadata": {},
   "source": [
    "Key points for Python specifically:\n",
    "\n",
    "- First-class citizens: functions can be passed around, stored in variables, used as arguments, and returned from other functions.\n",
    "- Closures: functions capture variables from their defining scope.\n",
    "- Default/keyword arguments: Python supports defaults, *args, **kwargs for flexible APIs.\n",
    "- Annotations: Type hints (-> int) are optional and non-enforced at runtime.\n",
    "- Decorators: Functions can wrap other functions, enabling meta-programming.\n",
    "- Async functions: Declared with async def, return coroutines, and integrate with await."
   ]
  },
  {
   "cell_type": "code",
   "execution_count": null,
   "id": "f9e16818",
   "metadata": {},
   "outputs": [],
   "source": [
    "def odd_even(number):\n",
    "    if number % 2 == 0:\n",
    "        return \"Even\"\n",
    "    else:\n",
    "        return \"Odd\"\n",
    "\n",
    "odd_even(5)"
   ]
  },
  {
   "cell_type": "markdown",
   "id": "3d1daf0d",
   "metadata": {},
   "source": [
    "## closures\n",
    "\n",
    "- A closure is a function that remembers the variables from the scope where it was created, even if that scope is no longer active.\n",
    "\n",
    "- So if an inner function references variables from an outer function, Python keeps those variables “alive” with the inner function."
   ]
  },
  {
   "cell_type": "code",
   "execution_count": 3,
   "id": "a9709bf9",
   "metadata": {},
   "outputs": [
    {
     "name": "stdout",
     "output_type": "stream",
     "text": [
      "Times 3: 30\n",
      "Times 5: 50\n"
     ]
    }
   ],
   "source": [
    "def make_multiplier(factor):\n",
    "    def multiplier(number):\n",
    "        return number * factor  # 'factor' is captured from the enclosing scope, demonstrating a closure\n",
    "    return multiplier\n",
    "\n",
    "time3 = make_multiplier(3)\n",
    "time5 = make_multiplier(5)\n",
    "\n",
    "print(\"Times 3:\", time3(10))\n",
    "print(\"Times 5:\", time5(10))"
   ]
  },
  {
   "cell_type": "markdown",
   "id": "7f7c4e7f",
   "metadata": {},
   "source": [
    "## positional vs keyword arguments\n",
    "\n",
    "- positional arguments: matched by order\n",
    "- keyword arguments: matched by name"
   ]
  },
  {
   "cell_type": "markdown",
   "id": "4c9f4ccc",
   "metadata": {},
   "source": [
    "## positional arguments\n",
    "- simple but fragile if order changes"
   ]
  },
  {
   "cell_type": "code",
   "execution_count": 6,
   "id": "caa06ffb",
   "metadata": {},
   "outputs": [
    {
     "data": {
      "text/plain": [
       "'Hello, Alex! You are 32 years old.'"
      ]
     },
     "execution_count": 6,
     "metadata": {},
     "output_type": "execute_result"
    }
   ],
   "source": [
    "def greet(name, age):\n",
    "    return f\"Hello, {name}! You are {age} years old.\"\n",
    "\n",
    "greet(\"Alex\", 32)  # position 0 -> name, position 1 -> age"
   ]
  },
  {
   "cell_type": "markdown",
   "id": "1f4d90b9",
   "metadata": {},
   "source": [
    "# keyword argument\n",
    "- Order doesn't matter\n",
    "- Imporoves readbility and clarity"
   ]
  },
  {
   "cell_type": "code",
   "execution_count": 5,
   "id": "b195a28d",
   "metadata": {},
   "outputs": [
    {
     "data": {
      "text/plain": [
       "'Hello, Alex! You are 32 years old.'"
      ]
     },
     "execution_count": 5,
     "metadata": {},
     "output_type": "execute_result"
    }
   ],
   "source": [
    "greet(name=\"Alex\", age=32)"
   ]
  }
 ],
 "metadata": {
  "kernelspec": {
   "display_name": "Python 3",
   "language": "python",
   "name": "python3"
  },
  "language_info": {
   "codemirror_mode": {
    "name": "ipython",
    "version": 3
   },
   "file_extension": ".py",
   "mimetype": "text/x-python",
   "name": "python",
   "nbconvert_exporter": "python",
   "pygments_lexer": "ipython3",
   "version": "3.10.18"
  }
 },
 "nbformat": 4,
 "nbformat_minor": 5
}
