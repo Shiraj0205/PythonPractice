{
 "cells": [
  {
   "cell_type": "markdown",
   "id": "8e1a0b36",
   "metadata": {},
   "source": [
    "## Python Basics\n",
    "- Datatype"
   ]
  },
  {
   "cell_type": "code",
   "execution_count": null,
   "id": "5dea33f3",
   "metadata": {},
   "outputs": [],
   "source": [
    "# This is a Python script to demonstrate basic concepts\n",
    "\n",
    "print(\"all good\")\n",
    "# Single Line Comment\n",
    "'''\n",
    "Multi-line comment\n",
    "'''"
   ]
  },
  {
   "cell_type": "code",
   "execution_count": null,
   "id": "52616dac",
   "metadata": {},
   "outputs": [],
   "source": [
    "# Finding the type of a variable\n",
    "print(type(\"string\")) #str\n",
    "\n",
    "print(type(10)) #int\n",
    "\n",
    "print(type(10.0)) #float\n",
    "\n",
    "print(type(True)) #boolean"
   ]
  },
  {
   "cell_type": "code",
   "execution_count": null,
   "id": "7d9f78e0",
   "metadata": {},
   "outputs": [],
   "source": [
    "## Mathematical operations\n",
    "a = 10\n",
    "b = 2\n",
    "\n",
    "print(f\"Addition : {a + b}\") #addition\n",
    "print(f\"Subtraction : {a - b}\") #subtraction\n",
    "print(f\"Multiplication : {a * b}\") #multiplication\n",
    "print(f\"Division : {a / b}\") #division\n",
    "print(f\"Floor Division : {a // b}\") #floor division\n",
    "print(f\"Modulus : {a % b}\") #modulus\n",
    "print(f\"Exponentiation : {a ** b}\") #exponentiation\n",
    "\n",
    "\n",
    "print(10 * 'string >> ') #repeats string"
   ]
  },
  {
   "cell_type": "markdown",
   "id": "e7be65cf",
   "metadata": {},
   "source": [
    "## "
   ]
  },
  {
   "cell_type": "code",
   "execution_count": null,
   "id": "cc39c95a",
   "metadata": {},
   "outputs": [],
   "source": [
    "## String Formatting\n",
    "first_name = \"John\"\n",
    "last_name = \"Doe\"\n",
    "\n",
    "print(\"My first name is {} and last name is {}\".format(first_name, last_name)) #using format method\n",
    "print(\"My name is : {first} {last}\".format(last=last_name, first=first_name)) #using keyword arguments\n"
   ]
  },
  {
   "cell_type": "code",
   "execution_count": null,
   "id": "c4ee275e",
   "metadata": {},
   "outputs": [],
   "source": [
    "# Length of a string\n",
    "print(len(\"Hello World\")) #length of string\\\n",
    "\n",
    "num_array = [25, 79,58, 12]\n",
    "\n",
    "print(\"Length of Num Array is {}\".format(len(num_array))) #length of array\n"
   ]
  }
 ],
 "metadata": {
  "kernelspec": {
   "display_name": "Python 3",
   "language": "python",
   "name": "python3"
  },
  "language_info": {
   "codemirror_mode": {
    "name": "ipython",
    "version": 3
   },
   "file_extension": ".py",
   "mimetype": "text/x-python",
   "name": "python",
   "nbconvert_exporter": "python",
   "pygments_lexer": "ipython3",
   "version": "3.10.18"
  }
 },
 "nbformat": 4,
 "nbformat_minor": 5
}
