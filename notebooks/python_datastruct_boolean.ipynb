{
 "cells": [
  {
   "cell_type": "code",
   "execution_count": null,
   "id": "202cc852",
   "metadata": {},
   "outputs": [],
   "source": [
    "#Initialize a boolean variable\n",
    "bool_isnew = bool() \n",
    "\n",
    "print(bool_isnew) #False\n",
    "print(type(bool_isnew)) #boolean"
   ]
  },
  {
   "cell_type": "code",
   "execution_count": null,
   "id": "216637b6",
   "metadata": {},
   "outputs": [],
   "source": [
    "# String Operations\n",
    "str_name = 'Python demo'\n",
    "\n",
    "print(f\"Is Alpha Numberic: {str_name.isalnum()}\")\n",
    "print(f\"Is Alpha: {str_name.isalpha()}\")\n",
    "print(f\"Is Decimal: {str_name.isdecimal()}\")\n",
    "print(f\"Is Digit: {str_name.isdigit()}\")\n",
    "print(f\"Is Identifier: {str_name.isidentifier()}\")\n",
    "print(f\"Is Lower: {str_name.islower()}\")\n",
    "print(f\"Is Numeric: {str_name.isnumeric()}\")\n",
    "print(f\"Is Print: {str_name.isprintable()}\")\n",
    "print(f\"Is Space: {str_name.isspace()}\")\n",
    "print(f\"Is Title: {str_name.istitle()}\")\n",
    "print(f\"Is Upper: {str_name.isupper()}\")    \n",
    "print(f\"Is Starts With: {str_name.startswith('Py')}\")\n",
    "print(f\"Is Ends With: {str_name.endswith('po')}\")\n"
   ]
  },
  {
   "cell_type": "code",
   "execution_count": null,
   "id": "f64a8e75",
   "metadata": {},
   "outputs": [],
   "source": [
    "# List Operations\n",
    "\n",
    "list_example = ['Python', 'Java', 'C++', 'JavaScript']\n",
    "print(f\"List: {list_example}\")\n"
   ]
  },
  {
   "cell_type": "code",
   "execution_count": null,
   "id": "a51fc637",
   "metadata": {},
   "outputs": [],
   "source": [
    "# Creating a list and adding elements\n",
    "list_numbers = list()\n",
    "list_numbers = [100, 234, 524, 1000]\n",
    "list_numbers.append(11)\n",
    "list_numbers.append(\"Python 3.11\")\n",
    "print(f\"Type of: {type(list_numbers)}\") # list\n",
    "print(f\"List: {list_numbers}\") \n",
    "print(f\"List Length: {len(list_numbers)}\") # 2\n",
    "print(f\"List Index 0: {list_numbers[0]}\") # 11\n",
    "print(f\"List Index 1: {list_numbers[1]}\") # Python 3\n"
   ]
  },
  {
   "cell_type": "code",
   "execution_count": null,
   "id": "9c899da1",
   "metadata": {},
   "outputs": [],
   "source": [
    "#insert an element at a specific index\n",
    "list_numbers.insert(1, False)\n",
    "print(f\"List after insert: {list_numbers}\") "
   ]
  },
  {
   "cell_type": "code",
   "execution_count": null,
   "id": "e876f05b",
   "metadata": {},
   "outputs": [],
   "source": [
    "#index of an element\n",
    "print(list_numbers[:]) # all elements\n",
    "print(list_numbers[1:]) # print from index 1\n",
    "print(list_numbers[:3]) # print from index 0"
   ]
  },
  {
   "cell_type": "code",
   "execution_count": null,
   "id": "896c84d3",
   "metadata": {},
   "outputs": [],
   "source": [
    "# Extending a list\n",
    "list_numbers.extend(['.Net', 'Java', 'C++'])\n",
    "print(f\"List after extend: {list_numbers}\")"
   ]
  },
  {
   "cell_type": "code",
   "execution_count": null,
   "id": "cfbe87ec",
   "metadata": {},
   "outputs": [],
   "source": [
    "list_ints = [1, 2, 3, 4, 2, 5, 6, 7, 8, 9, 10]\n",
    "\n",
    "print(f\"Sum of all ints: {sum(list_ints)}\")\n",
    "\n",
    "list_ints.pop() # removes the last element i.e. 10\n",
    "print(f\"List After pop: {list_ints}\")\n",
    "\n",
    "list_ints.pop(2) # removes the element at index 2 i.e. 3\n",
    "print(f\"List After pop at index 2: {list_ints}\")"
   ]
  },
  {
   "cell_type": "code",
   "execution_count": null,
   "id": "1dc855e9",
   "metadata": {},
   "outputs": [],
   "source": [
    "# count - calculates the number of occurrences of an element\n",
    "print(f\"Count of 2 in list: {list_ints.count(2)}\")"
   ]
  },
  {
   "cell_type": "code",
   "execution_count": null,
   "id": "24000d0c",
   "metadata": {},
   "outputs": [],
   "source": [
    "# index - returns the index of the first occurrence of an element. Start and end are optional\n",
    "print(f\"Index of 2 in list: {list_ints.index(2)}\")\n",
    "print(f\"Index of 5 in list: {list_ints.index(5, 0, 6)}\") # searches from index 0 to 6"
   ]
  },
  {
   "cell_type": "code",
   "execution_count": null,
   "id": "ab1a496e",
   "metadata": {},
   "outputs": [],
   "source": [
    "print(f\"Minimum of all ints: {min(list_ints)}\")\n",
    "print(f\"Maximum of all ints: {max(list_ints)}\")"
   ]
  },
  {
   "cell_type": "code",
   "execution_count": null,
   "id": "de4ff41a",
   "metadata": {},
   "outputs": [
    {
     "name": "stdout",
     "output_type": "stream",
     "text": [
      "List after multiplication: [1, 2, 4, 2, 5, 6, 7, 8, 9, 1, 2, 4, 2, 5, 6, 7, 8, 9]\n"
     ]
    }
   ],
   "source": [
    "list_ints2 = list_ints * 2\n",
    "print(f\"List after multiplication: {list_ints2}\") # List appears twice"
   ]
  }
 ],
 "metadata": {
  "kernelspec": {
   "display_name": "Python 3",
   "language": "python",
   "name": "python3"
  },
  "language_info": {
   "codemirror_mode": {
    "name": "ipython",
    "version": 3
   },
   "file_extension": ".py",
   "mimetype": "text/x-python",
   "name": "python",
   "nbconvert_exporter": "python",
   "pygments_lexer": "ipython3",
   "version": "3.10.18"
  }
 },
 "nbformat": 4,
 "nbformat_minor": 5
}
